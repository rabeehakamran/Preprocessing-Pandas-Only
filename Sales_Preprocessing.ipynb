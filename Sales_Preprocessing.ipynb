{
  "nbformat": 4,
  "nbformat_minor": 0,
  "metadata": {
    "colab": {
      "provenance": []
    },
    "kernelspec": {
      "name": "python3",
      "display_name": "Python 3"
    },
    "language_info": {
      "name": "python"
    }
  },
  "cells": [
    {
      "cell_type": "markdown",
      "source": [
        "#This program demonstrate data cleaning, preprocessing and training using Python Pandas library."
      ],
      "metadata": {
        "id": "BNFMy_M_Wbyv"
      }
    },
    {
      "cell_type": "code",
      "execution_count": null,
      "metadata": {
        "id": "xJMDAP4UVeSt"
      },
      "outputs": [],
      "source": [
        "import pandas as pd"
      ]
    },
    {
      "cell_type": "markdown",
      "source": [
        "##1. Data Loading and Inspection\n",
        "####i. Loading data from SalesData.csv .\n",
        "####ii. Printing dimensions of the dataset.\n",
        "####iii. Printing datatypes of all columns of the dataset.\n",
        "####iv. Display summary of dataset using data.info()\n",
        "####v. Display statistics of data using data.describe()"
      ],
      "metadata": {
        "id": "Sc7virlOf9hm"
      }
    },
    {
      "cell_type": "code",
      "source": [
        "data = pd.read_csv('Sales_Data.csv')\n",
        "print(f\"First 10 rows of the dataset :\\n {data.head(10)}\")"
      ],
      "metadata": {
        "colab": {
          "base_uri": "https://localhost:8080/"
        },
        "collapsed": true,
        "id": "TAFMPuZiVi-i",
        "outputId": "9206da73-bf13-43e4-b280-a466c582e948"
      },
      "execution_count": null,
      "outputs": [
        {
          "output_type": "stream",
          "name": "stdout",
          "text": [
            "First 10 rows of the dataset :\n",
            "    ORDERNUMBER  QUANTITYORDERED  PRICEEACH  ORDERLINENUMBER    SALES  \\\n",
            "0      10107.0             30.0      95.70              2.0  2871.00   \n",
            "1      10121.0             34.0      81.35              5.0  2765.90   \n",
            "2      10134.0             41.0      94.74              2.0  3884.34   \n",
            "3      10145.0             45.0      83.26              6.0  3746.70   \n",
            "4      10159.0             49.0     100.00             14.0      NaN   \n",
            "5      10168.0             36.0      96.66              1.0  3479.76   \n",
            "6      10180.0             29.0      86.13              9.0  2497.77   \n",
            "7      10188.0             48.0     100.00              1.0  5512.32   \n",
            "8      10201.0             22.0      98.57              2.0  2168.54   \n",
            "9      10211.0             41.0     100.00             14.0  4708.44   \n",
            "\n",
            "         ORDERDATE   STATUS  QTR_ID  MONTH_ID  YEAR_ID  ...  \\\n",
            "0   2/24/2003 0:00  Shipped     1.0       NaN   2003.0  ...   \n",
            "1              NaN  Shipped     2.0       5.0   2003.0  ...   \n",
            "2    7/1/2003 0:00  Shipped     3.0       7.0   2003.0  ...   \n",
            "3   8/25/2003 0:00  Shipped     3.0       8.0   2003.0  ...   \n",
            "4  10/10/2003 0:00  Shipped     4.0      10.0      NaN  ...   \n",
            "5  10/28/2003 0:00  Shipped     4.0      10.0   2003.0  ...   \n",
            "6  11/11/2003 0:00  Shipped     4.0      11.0   2003.0  ...   \n",
            "7  11/18/2003 0:00  Shipped     4.0      11.0   2003.0  ...   \n",
            "8   12/1/2003 0:00  Shipped     4.0      12.0   2003.0  ...   \n",
            "9   1/15/2004 0:00  Shipped     NaN       1.0   2004.0  ...   \n",
            "\n",
            "                    ADDRESSLINE1  ADDRESSLINE2           CITY STATE  \\\n",
            "0        897 Long Airport Avenue           NaN            NYC    NY   \n",
            "1             59 rue de l'Abbaye           NaN          Reims   NaN   \n",
            "2  27 rue du Colonel Pierre Avia           NaN          Paris   NaN   \n",
            "3             78934 Hillside Dr.           NaN       Pasadena    CA   \n",
            "4                7734 Strong St.           NaN  San Francisco    CA   \n",
            "5              9408 Furth Circle           NaN     Burlingame    CA   \n",
            "6        184, chausse de Tournai           NaN          Lille   NaN   \n",
            "7    Drammen 121, PR 744 Sentrum           NaN         Bergen   NaN   \n",
            "8      5557 North Pendale Street           NaN  San Francisco    CA   \n",
            "9              25, rue Lauriston           NaN          Paris   NaN   \n",
            "\n",
            "  POSTALCODE COUNTRY TERRITORY CONTACTLASTNAME CONTACTFIRSTNAME DEALSIZE  \n",
            "0      10022     USA       NaN              Yu             Kwai    Small  \n",
            "1      51100  France      EMEA         Henriot             Paul    Small  \n",
            "2      75508  France      EMEA        Da Cunha           Daniel   Medium  \n",
            "3      90003     USA       NaN           Young            Julie   Medium  \n",
            "4        NaN     USA       NaN           Brown            Julie   Medium  \n",
            "5      94217     USA       NaN          Hirano             Juri   Medium  \n",
            "6      59000  France      EMEA           Rance          Martine    Small  \n",
            "7     N 5804  Norway      EMEA          Oeztan           Veysel   Medium  \n",
            "8        NaN     USA       NaN             NaN            Julie    Small  \n",
            "9      75016  France      EMEA         Perrier        Dominique   Medium  \n",
            "\n",
            "[10 rows x 25 columns]\n"
          ]
        }
      ]
    },
    {
      "cell_type": "code",
      "source": [
        "print(f\"Dimensions of the dataset {data.shape}\")"
      ],
      "metadata": {
        "colab": {
          "base_uri": "https://localhost:8080/"
        },
        "collapsed": true,
        "id": "8vzurUBgV9fk",
        "outputId": "8b9ec368-e043-4be0-f594-21371f5baef7"
      },
      "execution_count": null,
      "outputs": [
        {
          "output_type": "stream",
          "name": "stdout",
          "text": [
            "Dimensions of the dataset (2823, 25)\n"
          ]
        }
      ]
    },
    {
      "cell_type": "code",
      "source": [],
      "metadata": {
        "id": "rRiTDEmWhUQ1"
      },
      "execution_count": null,
      "outputs": []
    },
    {
      "cell_type": "code",
      "source": [
        "print(f\"Datatypes of the columns of the dataset : {data.dtypes}\")"
      ],
      "metadata": {
        "colab": {
          "base_uri": "https://localhost:8080/"
        },
        "collapsed": true,
        "id": "rOs6JIwaWPLV",
        "outputId": "ba794c39-d24a-4210-92f8-f8551cfbe176"
      },
      "execution_count": null,
      "outputs": [
        {
          "output_type": "stream",
          "name": "stdout",
          "text": [
            "Datatypes of the columns of the dataset : ORDERNUMBER         float64\n",
            "QUANTITYORDERED     float64\n",
            "PRICEEACH           float64\n",
            "ORDERLINENUMBER     float64\n",
            "SALES               float64\n",
            "ORDERDATE            object\n",
            "STATUS               object\n",
            "QTR_ID              float64\n",
            "MONTH_ID            float64\n",
            "YEAR_ID             float64\n",
            "PRODUCTLINE          object\n",
            "MSRP                float64\n",
            "PRODUCTCODE          object\n",
            "CUSTOMERNAME         object\n",
            "PHONE                object\n",
            "ADDRESSLINE1         object\n",
            "ADDRESSLINE2         object\n",
            "CITY                 object\n",
            "STATE                object\n",
            "POSTALCODE           object\n",
            "COUNTRY              object\n",
            "TERRITORY            object\n",
            "CONTACTLASTNAME      object\n",
            "CONTACTFIRSTNAME     object\n",
            "DEALSIZE             object\n",
            "dtype: object\n"
          ]
        }
      ]
    },
    {
      "cell_type": "code",
      "source": [
        "print(f\"Summary of the dataset {data.info()}\")"
      ],
      "metadata": {
        "colab": {
          "base_uri": "https://localhost:8080/"
        },
        "collapsed": true,
        "id": "tRIaigNbXeGi",
        "outputId": "92da8898-c734-4abe-b03d-3dc30567ebb1"
      },
      "execution_count": null,
      "outputs": [
        {
          "output_type": "stream",
          "name": "stdout",
          "text": [
            "<class 'pandas.core.frame.DataFrame'>\n",
            "RangeIndex: 2823 entries, 0 to 2822\n",
            "Data columns (total 25 columns):\n",
            " #   Column            Non-Null Count  Dtype  \n",
            "---  ------            --------------  -----  \n",
            " 0   ORDERNUMBER       2682 non-null   float64\n",
            " 1   QUANTITYORDERED   2682 non-null   float64\n",
            " 2   PRICEEACH         2682 non-null   float64\n",
            " 3   ORDERLINENUMBER   2682 non-null   float64\n",
            " 4   SALES             2682 non-null   float64\n",
            " 5   ORDERDATE         2682 non-null   object \n",
            " 6   STATUS            2682 non-null   object \n",
            " 7   QTR_ID            2682 non-null   float64\n",
            " 8   MONTH_ID          2682 non-null   float64\n",
            " 9   YEAR_ID           2682 non-null   float64\n",
            " 10  PRODUCTLINE       2682 non-null   object \n",
            " 11  MSRP              2682 non-null   float64\n",
            " 12  PRODUCTCODE       2682 non-null   object \n",
            " 13  CUSTOMERNAME      2682 non-null   object \n",
            " 14  PHONE             2682 non-null   object \n",
            " 15  ADDRESSLINE1      2682 non-null   object \n",
            " 16  ADDRESSLINE2      285 non-null    object \n",
            " 17  CITY              2682 non-null   object \n",
            " 18  STATE             1267 non-null   object \n",
            " 19  POSTALCODE        2609 non-null   object \n",
            " 20  COUNTRY           2682 non-null   object \n",
            " 21  TERRITORY         1647 non-null   object \n",
            " 22  CONTACTLASTNAME   2682 non-null   object \n",
            " 23  CONTACTFIRSTNAME  2682 non-null   object \n",
            " 24  DEALSIZE          2682 non-null   object \n",
            "dtypes: float64(9), object(16)\n",
            "memory usage: 551.5+ KB\n",
            "Summary of the dataset None\n"
          ]
        }
      ]
    },
    {
      "cell_type": "code",
      "source": [
        "print(f\" Statistical Analysis of the data {data.describe()}\")"
      ],
      "metadata": {
        "colab": {
          "base_uri": "https://localhost:8080/"
        },
        "collapsed": true,
        "id": "fkmuT7X7Xy1G",
        "outputId": "634f2cb2-3067-4633-f7a5-786f0f488890"
      },
      "execution_count": null,
      "outputs": [
        {
          "output_type": "stream",
          "name": "stdout",
          "text": [
            " Statistical Analysis of the data         ORDERNUMBER  QUANTITYORDERED    PRICEEACH  ORDERLINENUMBER  \\\n",
            "count   2682.000000      2682.000000  2682.000000      2682.000000   \n",
            "mean   10258.961596        35.035048    83.727651         6.472782   \n",
            "std       92.011889         9.662579    20.147271         4.232453   \n",
            "min    10100.000000         6.000000    26.880000         1.000000   \n",
            "25%    10180.000000        27.000000    69.160000         3.000000   \n",
            "50%    10263.000000        35.000000    95.800000         6.000000   \n",
            "75%    10333.000000        43.000000   100.000000         9.000000   \n",
            "max    10425.000000        97.000000   100.000000        18.000000   \n",
            "\n",
            "              SALES       QTR_ID     MONTH_ID      YEAR_ID         MSRP  \n",
            "count   2682.000000  2682.000000  2682.000000  2682.000000  2682.000000  \n",
            "mean    3551.496234     2.714392     7.077181  2003.818046   100.826995  \n",
            "std     1840.029298     1.204125     3.645879     0.699338    40.327972  \n",
            "min      482.130000     1.000000     1.000000  2003.000000    33.000000  \n",
            "25%     2195.665000     2.000000     4.000000  2003.000000    68.000000  \n",
            "50%     3184.800000     3.000000     8.000000  2004.000000    99.000000  \n",
            "75%     4508.000000     4.000000    11.000000  2004.000000   127.000000  \n",
            "max    14082.800000     4.000000    12.000000  2005.000000   214.000000  \n"
          ]
        }
      ]
    },
    {
      "cell_type": "code",
      "source": [
        "# Part 2\n",
        "print(f\" Number of NULL values in the dataset(column-wise) : {data.isnull().sum()}\")"
      ],
      "metadata": {
        "colab": {
          "base_uri": "https://localhost:8080/"
        },
        "id": "schYSlruX3He",
        "outputId": "2b62870e-d818-4e62-9123-1fd1f3acc640"
      },
      "execution_count": null,
      "outputs": [
        {
          "output_type": "stream",
          "name": "stdout",
          "text": [
            " Number of NULL values in the dataset(column-wise) : ORDERNUMBER          141\n",
            "QUANTITYORDERED      141\n",
            "PRICEEACH            141\n",
            "ORDERLINENUMBER      141\n",
            "SALES                141\n",
            "ORDERDATE            141\n",
            "STATUS               141\n",
            "QTR_ID               141\n",
            "MONTH_ID             141\n",
            "YEAR_ID              141\n",
            "PRODUCTLINE          141\n",
            "MSRP                 141\n",
            "PRODUCTCODE          141\n",
            "CUSTOMERNAME         141\n",
            "PHONE                141\n",
            "ADDRESSLINE1         141\n",
            "ADDRESSLINE2        2538\n",
            "CITY                 141\n",
            "STATE               1556\n",
            "POSTALCODE           214\n",
            "COUNTRY              141\n",
            "TERRITORY           1176\n",
            "CONTACTLASTNAME      141\n",
            "CONTACTFIRSTNAME     141\n",
            "DEALSIZE             141\n",
            "dtype: int64\n"
          ]
        }
      ]
    },
    {
      "cell_type": "markdown",
      "source": [
        "## 2. Data Cleaning\n",
        "#### i. Used mean (numerical data) , 'unknown' and fillf() (categorical data) to fill null values.\n",
        "#### ii. Removing columns with high no. (> 1000) missing values.\n",
        "#### iii. Standardize product names by removing extra spaces and converting to lowercase.\n",
        "#### iv. Convert QUANTITYORDERED and PRICEEACH to numeric values using pd.to_numeric()\n",
        "#### v. Convert ORDERDATE to datetime using pd.to_datetime()"
      ],
      "metadata": {
        "id": "iuS1f8IeiFlk"
      }
    },
    {
      "cell_type": "code",
      "source": [
        "# counting rows before and after data cleaning\n",
        "original_data = pd.read_csv('Sales_Data.csv')\n",
        "print(f\"Number of rows before data cleaning {original_data.shape[0]}\")"
      ],
      "metadata": {
        "colab": {
          "base_uri": "https://localhost:8080/"
        },
        "id": "uM9q8FNiCLj9",
        "outputId": "0d8a10aa-a2a1-46d9-c587-17fbec80e640"
      },
      "execution_count": null,
      "outputs": [
        {
          "output_type": "stream",
          "name": "stdout",
          "text": [
            "Number of rows before data cleaning 2823\n"
          ]
        }
      ]
    },
    {
      "cell_type": "code",
      "source": [
        "# Convert ORDERDATE\n",
        "data['ORDERDATE'] = pd.to_datetime(data['ORDERDATE'], errors='coerce')\n",
        "data['ORDERDATE'] = data['ORDERDATE'].ffill()\n",
        "\n",
        "# Fill numeric columns\n",
        "data['QUANTITYORDERED'] = data['QUANTITYORDERED'].fillna(data['QUANTITYORDERED'].median())\n",
        "data['PRICEEACH'] = data['PRICEEACH'].fillna(data['PRICEEACH'].median())\n",
        "data['ORDERLINENUMBER'] = data['ORDERLINENUMBER'].fillna(data['ORDERLINENUMBER'].median())\n",
        "\n",
        "# Derive SALES = QUANTITYORDERED * PRICEEACH\n",
        "data['SALES'] = data['QUANTITYORDERED'] * data['PRICEEACH']\n",
        "\n",
        "# Fill categorical columns\n",
        "data['STATUS'] = data['STATUS'].fillna(data['STATUS'].mode()[0])\n",
        "data['PRODUCTLINE'] = data['PRODUCTLINE'].fillna('Unknown')\n",
        "data['PRODUCTCODE'] = data['PRODUCTCODE'].fillna('Unknown')\n",
        "data['CUSTOMERNAME'] = data['CUSTOMERNAME'].fillna('Unknown')\n",
        "data['PHONE'] = data['PHONE'].fillna('N/A')\n",
        "data['CITY'] = data['CITY'].fillna('Unknown')\n",
        "data['COUNTRY'] = data['COUNTRY'].fillna('Unknown')\n",
        "data['CONTACTLASTNAME'] = data['CONTACTLASTNAME'].fillna('Unknown')\n",
        "data['CONTACTFIRSTNAME'] = data['CONTACTFIRSTNAME'].fillna('Unknown')\n",
        "data['DEALSIZE'] = data['DEALSIZE'].fillna(data['DEALSIZE'].mode()[0])\n",
        "\n",
        "# Extract and fill QTR_ID, MONTH_ID, YEAR_ID from ORDERDATE\n",
        "data['QTR_ID'] = data['ORDERDATE'].dt.quarter\n",
        "data['MONTH_ID'] = data['ORDERDATE'].dt.month\n",
        "data['YEAR_ID'] = data['ORDERDATE'].dt.year\n",
        "\n",
        "# Droping highly null columns\n",
        "data.drop(columns=['ADDRESSLINE2', 'TERRITORY', 'POSTALCODE', 'STATE'], inplace=True)\n",
        "\n",
        "# Final check\n",
        "print(\"Final Null Values:\\n\", data.isnull().sum())\n"
      ],
      "metadata": {
        "colab": {
          "base_uri": "https://localhost:8080/"
        },
        "id": "gPaMe9QnZ2K1",
        "outputId": "1a69a18a-5887-4c3b-e5c3-7d3414d8de28"
      },
      "execution_count": null,
      "outputs": [
        {
          "output_type": "stream",
          "name": "stdout",
          "text": [
            "Final Null Values:\n",
            " ORDERNUMBER         141\n",
            "QUANTITYORDERED       0\n",
            "PRICEEACH             0\n",
            "ORDERLINENUMBER       0\n",
            "SALES                 0\n",
            "ORDERDATE             0\n",
            "STATUS                0\n",
            "QTR_ID                0\n",
            "MONTH_ID              0\n",
            "YEAR_ID               0\n",
            "PRODUCTLINE           0\n",
            "MSRP                141\n",
            "PRODUCTCODE           0\n",
            "CUSTOMERNAME          0\n",
            "PHONE                 0\n",
            "ADDRESSLINE1        141\n",
            "CITY                  0\n",
            "COUNTRY               0\n",
            "CONTACTLASTNAME       0\n",
            "CONTACTFIRSTNAME      0\n",
            "DEALSIZE              0\n",
            "dtype: int64\n"
          ]
        }
      ]
    },
    {
      "cell_type": "code",
      "source": [
        "# Fill ORDERNUMBER\n",
        "data['ORDERNUMBER'] = data['ORDERNUMBER'].fillna(method='ffill')\n",
        "data['ORDERNUMBER'] = data['ORDERNUMBER'].fillna('UnknownOrder')\n",
        "\n",
        "# Keep ADDRESSLINE1 and fill smartly\n",
        "data['ADDRESSLINE1'] = data['ADDRESSLINE1'].fillna('Address not provided')\n",
        "\n",
        "# Drop MSRP\n",
        "data.drop(columns=['MSRP'], inplace=True)\n",
        "\n",
        "# Final check\n",
        "print(\"Final Nulls:\\n\", data.isnull().sum())\n"
      ],
      "metadata": {
        "colab": {
          "base_uri": "https://localhost:8080/"
        },
        "id": "bA6B1r5F_Vw2",
        "outputId": "d88974ac-f186-4375-c29b-f6dab418d86b"
      },
      "execution_count": null,
      "outputs": [
        {
          "output_type": "stream",
          "name": "stdout",
          "text": [
            "Final Nulls:\n",
            " ORDERNUMBER         0\n",
            "QUANTITYORDERED     0\n",
            "PRICEEACH           0\n",
            "ORDERLINENUMBER     0\n",
            "SALES               0\n",
            "ORDERDATE           0\n",
            "STATUS              0\n",
            "QTR_ID              0\n",
            "MONTH_ID            0\n",
            "YEAR_ID             0\n",
            "PRODUCTLINE         0\n",
            "PRODUCTCODE         0\n",
            "CUSTOMERNAME        0\n",
            "PHONE               0\n",
            "ADDRESSLINE1        0\n",
            "CITY                0\n",
            "COUNTRY             0\n",
            "CONTACTLASTNAME     0\n",
            "CONTACTFIRSTNAME    0\n",
            "DEALSIZE            0\n",
            "dtype: int64\n"
          ]
        },
        {
          "output_type": "stream",
          "name": "stderr",
          "text": [
            "/tmp/ipython-input-10-135527055.py:2: FutureWarning: Series.fillna with 'method' is deprecated and will raise in a future version. Use obj.ffill() or obj.bfill() instead.\n",
            "  data['ORDERNUMBER'] = data['ORDERNUMBER'].fillna(method='ffill')\n"
          ]
        }
      ]
    },
    {
      "cell_type": "code",
      "source": [
        "print(f\"Number of rows after data cleaning {data.shape[0]}\")"
      ],
      "metadata": {
        "colab": {
          "base_uri": "https://localhost:8080/"
        },
        "id": "eJChxgHCDkQE",
        "outputId": "5b1d83aa-5d16-4d88-e1d8-5109915bb6b7"
      },
      "execution_count": null,
      "outputs": [
        {
          "output_type": "stream",
          "name": "stdout",
          "text": [
            "Number of rows after data cleaning 2823\n"
          ]
        }
      ]
    },
    {
      "cell_type": "code",
      "source": [
        "# Before filling\n",
        "missing_before = original_data.isnull().sum()\n",
        "\n",
        "# After filling\n",
        "missing_after = data.isnull().sum()\n",
        "\n",
        "# Difference\n",
        "print(\"NaNs filled per column:\\n\", missing_before - missing_after)\n"
      ],
      "metadata": {
        "colab": {
          "base_uri": "https://localhost:8080/"
        },
        "id": "YgeEtruLD5Ox",
        "outputId": "62ae03f9-589f-4cad-d7ae-c0a9d2a9904a"
      },
      "execution_count": null,
      "outputs": [
        {
          "output_type": "stream",
          "name": "stdout",
          "text": [
            "NaNs filled per column:\n",
            " ADDRESSLINE1        141.0\n",
            "ADDRESSLINE2          NaN\n",
            "CITY                141.0\n",
            "CONTACTFIRSTNAME    141.0\n",
            "CONTACTLASTNAME     141.0\n",
            "COUNTRY             141.0\n",
            "CUSTOMERNAME        141.0\n",
            "DEALSIZE            141.0\n",
            "MONTH_ID            141.0\n",
            "MSRP                  NaN\n",
            "ORDERDATE           141.0\n",
            "ORDERLINENUMBER     141.0\n",
            "ORDERNUMBER         141.0\n",
            "PHONE               141.0\n",
            "POSTALCODE            NaN\n",
            "PRICEEACH           141.0\n",
            "PRODUCTCODE         141.0\n",
            "PRODUCTLINE         141.0\n",
            "QTR_ID              141.0\n",
            "QUANTITYORDERED     141.0\n",
            "SALES               141.0\n",
            "STATE                 NaN\n",
            "STATUS              141.0\n",
            "TERRITORY             NaN\n",
            "YEAR_ID             141.0\n",
            "dtype: float64\n"
          ]
        }
      ]
    },
    {
      "cell_type": "code",
      "source": [
        "data.describe(include='all')\n"
      ],
      "metadata": {
        "colab": {
          "base_uri": "https://localhost:8080/",
          "height": 553
        },
        "id": "j35bm-E6ESBj",
        "outputId": "e3aff471-427f-49da-a2fc-4fdab2979735"
      },
      "execution_count": null,
      "outputs": [
        {
          "output_type": "execute_result",
          "data": {
            "text/plain": [
              "         ORDERNUMBER  QUANTITYORDERED    PRICEEACH  ORDERLINENUMBER  \\\n",
              "count    2823.000000      2823.000000  2823.000000      2823.000000   \n",
              "unique           NaN              NaN          NaN              NaN   \n",
              "top              NaN              NaN          NaN              NaN   \n",
              "freq             NaN              NaN          NaN              NaN   \n",
              "mean    10258.627701        35.033298    84.330627         6.449168   \n",
              "min     10100.000000         6.000000    26.880000         1.000000   \n",
              "25%     10178.000000        27.000000    70.340000         3.000000   \n",
              "50%     10263.000000        35.000000    95.800000         6.000000   \n",
              "75%     10333.000000        42.000000   100.000000         9.000000   \n",
              "max     10425.000000        97.000000   100.000000        18.000000   \n",
              "std        92.105811         9.418095    19.812862         4.126647   \n",
              "\n",
              "              SALES                      ORDERDATE   STATUS       QTR_ID  \\\n",
              "count   2823.000000                           2823     2823  2823.000000   \n",
              "unique          NaN                            NaN        6          NaN   \n",
              "top             NaN                            NaN  Shipped          NaN   \n",
              "freq            NaN                            NaN     2628          NaN   \n",
              "mean    2953.806560  2004-05-09 07:26:50.626992640      NaN     2.715905   \n",
              "min      482.130000            2003-01-06 00:00:00      NaN     1.000000   \n",
              "25%     2143.170000            2003-11-06 00:00:00      NaN     2.000000   \n",
              "50%     2862.720000            2004-06-15 00:00:00      NaN     3.000000   \n",
              "75%     3700.000000            2004-11-17 00:00:00      NaN     4.000000   \n",
              "max     9048.160000            2005-05-31 00:00:00      NaN     4.000000   \n",
              "std     1074.523578                            NaN      NaN     1.206843   \n",
              "\n",
              "           MONTH_ID      YEAR_ID   PRODUCTLINE PRODUCTCODE  \\\n",
              "count   2823.000000  2823.000000          2823        2823   \n",
              "unique          NaN          NaN             8         110   \n",
              "top             NaN          NaN  Classic Cars     Unknown   \n",
              "freq            NaN          NaN           917         141   \n",
              "mean       7.083599  2003.811194           NaN         NaN   \n",
              "min        1.000000  2003.000000           NaN         NaN   \n",
              "25%        4.000000  2003.000000           NaN         NaN   \n",
              "50%        8.000000  2004.000000           NaN         NaN   \n",
              "75%       11.000000  2004.000000           NaN         NaN   \n",
              "max       12.000000  2005.000000           NaN         NaN   \n",
              "std        3.666862     0.697867           NaN         NaN   \n",
              "\n",
              "                 CUSTOMERNAME           PHONE        ADDRESSLINE1    CITY  \\\n",
              "count                    2823            2823                2823    2823   \n",
              "unique                     93              92                  93      74   \n",
              "top     Euro Shopping Channel  (91) 555 94 44  C/ Moralzarzal, 86  Madrid   \n",
              "freq                      247             244                 251     293   \n",
              "mean                      NaN             NaN                 NaN     NaN   \n",
              "min                       NaN             NaN                 NaN     NaN   \n",
              "25%                       NaN             NaN                 NaN     NaN   \n",
              "50%                       NaN             NaN                 NaN     NaN   \n",
              "75%                       NaN             NaN                 NaN     NaN   \n",
              "max                       NaN             NaN                 NaN     NaN   \n",
              "std                       NaN             NaN                 NaN     NaN   \n",
              "\n",
              "       COUNTRY CONTACTLASTNAME CONTACTFIRSTNAME DEALSIZE  \n",
              "count     2823            2823             2823     2823  \n",
              "unique      20              78               73        3  \n",
              "top        USA          Freyre            Diego   Medium  \n",
              "freq       964             246              250     1451  \n",
              "mean       NaN             NaN              NaN      NaN  \n",
              "min        NaN             NaN              NaN      NaN  \n",
              "25%        NaN             NaN              NaN      NaN  \n",
              "50%        NaN             NaN              NaN      NaN  \n",
              "75%        NaN             NaN              NaN      NaN  \n",
              "max        NaN             NaN              NaN      NaN  \n",
              "std        NaN             NaN              NaN      NaN  "
            ],
            "text/html": [
              "\n",
              "  <div id=\"df-d3dea25c-1e59-4f3e-b1fa-cc6102db99fc\" class=\"colab-df-container\">\n",
              "    <div>\n",
              "<style scoped>\n",
              "    .dataframe tbody tr th:only-of-type {\n",
              "        vertical-align: middle;\n",
              "    }\n",
              "\n",
              "    .dataframe tbody tr th {\n",
              "        vertical-align: top;\n",
              "    }\n",
              "\n",
              "    .dataframe thead th {\n",
              "        text-align: right;\n",
              "    }\n",
              "</style>\n",
              "<table border=\"1\" class=\"dataframe\">\n",
              "  <thead>\n",
              "    <tr style=\"text-align: right;\">\n",
              "      <th></th>\n",
              "      <th>ORDERNUMBER</th>\n",
              "      <th>QUANTITYORDERED</th>\n",
              "      <th>PRICEEACH</th>\n",
              "      <th>ORDERLINENUMBER</th>\n",
              "      <th>SALES</th>\n",
              "      <th>ORDERDATE</th>\n",
              "      <th>STATUS</th>\n",
              "      <th>QTR_ID</th>\n",
              "      <th>MONTH_ID</th>\n",
              "      <th>YEAR_ID</th>\n",
              "      <th>PRODUCTLINE</th>\n",
              "      <th>PRODUCTCODE</th>\n",
              "      <th>CUSTOMERNAME</th>\n",
              "      <th>PHONE</th>\n",
              "      <th>ADDRESSLINE1</th>\n",
              "      <th>CITY</th>\n",
              "      <th>COUNTRY</th>\n",
              "      <th>CONTACTLASTNAME</th>\n",
              "      <th>CONTACTFIRSTNAME</th>\n",
              "      <th>DEALSIZE</th>\n",
              "    </tr>\n",
              "  </thead>\n",
              "  <tbody>\n",
              "    <tr>\n",
              "      <th>count</th>\n",
              "      <td>2823.000000</td>\n",
              "      <td>2823.000000</td>\n",
              "      <td>2823.000000</td>\n",
              "      <td>2823.000000</td>\n",
              "      <td>2823.000000</td>\n",
              "      <td>2823</td>\n",
              "      <td>2823</td>\n",
              "      <td>2823.000000</td>\n",
              "      <td>2823.000000</td>\n",
              "      <td>2823.000000</td>\n",
              "      <td>2823</td>\n",
              "      <td>2823</td>\n",
              "      <td>2823</td>\n",
              "      <td>2823</td>\n",
              "      <td>2823</td>\n",
              "      <td>2823</td>\n",
              "      <td>2823</td>\n",
              "      <td>2823</td>\n",
              "      <td>2823</td>\n",
              "      <td>2823</td>\n",
              "    </tr>\n",
              "    <tr>\n",
              "      <th>unique</th>\n",
              "      <td>NaN</td>\n",
              "      <td>NaN</td>\n",
              "      <td>NaN</td>\n",
              "      <td>NaN</td>\n",
              "      <td>NaN</td>\n",
              "      <td>NaN</td>\n",
              "      <td>6</td>\n",
              "      <td>NaN</td>\n",
              "      <td>NaN</td>\n",
              "      <td>NaN</td>\n",
              "      <td>8</td>\n",
              "      <td>110</td>\n",
              "      <td>93</td>\n",
              "      <td>92</td>\n",
              "      <td>93</td>\n",
              "      <td>74</td>\n",
              "      <td>20</td>\n",
              "      <td>78</td>\n",
              "      <td>73</td>\n",
              "      <td>3</td>\n",
              "    </tr>\n",
              "    <tr>\n",
              "      <th>top</th>\n",
              "      <td>NaN</td>\n",
              "      <td>NaN</td>\n",
              "      <td>NaN</td>\n",
              "      <td>NaN</td>\n",
              "      <td>NaN</td>\n",
              "      <td>NaN</td>\n",
              "      <td>Shipped</td>\n",
              "      <td>NaN</td>\n",
              "      <td>NaN</td>\n",
              "      <td>NaN</td>\n",
              "      <td>Classic Cars</td>\n",
              "      <td>Unknown</td>\n",
              "      <td>Euro Shopping Channel</td>\n",
              "      <td>(91) 555 94 44</td>\n",
              "      <td>C/ Moralzarzal, 86</td>\n",
              "      <td>Madrid</td>\n",
              "      <td>USA</td>\n",
              "      <td>Freyre</td>\n",
              "      <td>Diego</td>\n",
              "      <td>Medium</td>\n",
              "    </tr>\n",
              "    <tr>\n",
              "      <th>freq</th>\n",
              "      <td>NaN</td>\n",
              "      <td>NaN</td>\n",
              "      <td>NaN</td>\n",
              "      <td>NaN</td>\n",
              "      <td>NaN</td>\n",
              "      <td>NaN</td>\n",
              "      <td>2628</td>\n",
              "      <td>NaN</td>\n",
              "      <td>NaN</td>\n",
              "      <td>NaN</td>\n",
              "      <td>917</td>\n",
              "      <td>141</td>\n",
              "      <td>247</td>\n",
              "      <td>244</td>\n",
              "      <td>251</td>\n",
              "      <td>293</td>\n",
              "      <td>964</td>\n",
              "      <td>246</td>\n",
              "      <td>250</td>\n",
              "      <td>1451</td>\n",
              "    </tr>\n",
              "    <tr>\n",
              "      <th>mean</th>\n",
              "      <td>10258.627701</td>\n",
              "      <td>35.033298</td>\n",
              "      <td>84.330627</td>\n",
              "      <td>6.449168</td>\n",
              "      <td>2953.806560</td>\n",
              "      <td>2004-05-09 07:26:50.626992640</td>\n",
              "      <td>NaN</td>\n",
              "      <td>2.715905</td>\n",
              "      <td>7.083599</td>\n",
              "      <td>2003.811194</td>\n",
              "      <td>NaN</td>\n",
              "      <td>NaN</td>\n",
              "      <td>NaN</td>\n",
              "      <td>NaN</td>\n",
              "      <td>NaN</td>\n",
              "      <td>NaN</td>\n",
              "      <td>NaN</td>\n",
              "      <td>NaN</td>\n",
              "      <td>NaN</td>\n",
              "      <td>NaN</td>\n",
              "    </tr>\n",
              "    <tr>\n",
              "      <th>min</th>\n",
              "      <td>10100.000000</td>\n",
              "      <td>6.000000</td>\n",
              "      <td>26.880000</td>\n",
              "      <td>1.000000</td>\n",
              "      <td>482.130000</td>\n",
              "      <td>2003-01-06 00:00:00</td>\n",
              "      <td>NaN</td>\n",
              "      <td>1.000000</td>\n",
              "      <td>1.000000</td>\n",
              "      <td>2003.000000</td>\n",
              "      <td>NaN</td>\n",
              "      <td>NaN</td>\n",
              "      <td>NaN</td>\n",
              "      <td>NaN</td>\n",
              "      <td>NaN</td>\n",
              "      <td>NaN</td>\n",
              "      <td>NaN</td>\n",
              "      <td>NaN</td>\n",
              "      <td>NaN</td>\n",
              "      <td>NaN</td>\n",
              "    </tr>\n",
              "    <tr>\n",
              "      <th>25%</th>\n",
              "      <td>10178.000000</td>\n",
              "      <td>27.000000</td>\n",
              "      <td>70.340000</td>\n",
              "      <td>3.000000</td>\n",
              "      <td>2143.170000</td>\n",
              "      <td>2003-11-06 00:00:00</td>\n",
              "      <td>NaN</td>\n",
              "      <td>2.000000</td>\n",
              "      <td>4.000000</td>\n",
              "      <td>2003.000000</td>\n",
              "      <td>NaN</td>\n",
              "      <td>NaN</td>\n",
              "      <td>NaN</td>\n",
              "      <td>NaN</td>\n",
              "      <td>NaN</td>\n",
              "      <td>NaN</td>\n",
              "      <td>NaN</td>\n",
              "      <td>NaN</td>\n",
              "      <td>NaN</td>\n",
              "      <td>NaN</td>\n",
              "    </tr>\n",
              "    <tr>\n",
              "      <th>50%</th>\n",
              "      <td>10263.000000</td>\n",
              "      <td>35.000000</td>\n",
              "      <td>95.800000</td>\n",
              "      <td>6.000000</td>\n",
              "      <td>2862.720000</td>\n",
              "      <td>2004-06-15 00:00:00</td>\n",
              "      <td>NaN</td>\n",
              "      <td>3.000000</td>\n",
              "      <td>8.000000</td>\n",
              "      <td>2004.000000</td>\n",
              "      <td>NaN</td>\n",
              "      <td>NaN</td>\n",
              "      <td>NaN</td>\n",
              "      <td>NaN</td>\n",
              "      <td>NaN</td>\n",
              "      <td>NaN</td>\n",
              "      <td>NaN</td>\n",
              "      <td>NaN</td>\n",
              "      <td>NaN</td>\n",
              "      <td>NaN</td>\n",
              "    </tr>\n",
              "    <tr>\n",
              "      <th>75%</th>\n",
              "      <td>10333.000000</td>\n",
              "      <td>42.000000</td>\n",
              "      <td>100.000000</td>\n",
              "      <td>9.000000</td>\n",
              "      <td>3700.000000</td>\n",
              "      <td>2004-11-17 00:00:00</td>\n",
              "      <td>NaN</td>\n",
              "      <td>4.000000</td>\n",
              "      <td>11.000000</td>\n",
              "      <td>2004.000000</td>\n",
              "      <td>NaN</td>\n",
              "      <td>NaN</td>\n",
              "      <td>NaN</td>\n",
              "      <td>NaN</td>\n",
              "      <td>NaN</td>\n",
              "      <td>NaN</td>\n",
              "      <td>NaN</td>\n",
              "      <td>NaN</td>\n",
              "      <td>NaN</td>\n",
              "      <td>NaN</td>\n",
              "    </tr>\n",
              "    <tr>\n",
              "      <th>max</th>\n",
              "      <td>10425.000000</td>\n",
              "      <td>97.000000</td>\n",
              "      <td>100.000000</td>\n",
              "      <td>18.000000</td>\n",
              "      <td>9048.160000</td>\n",
              "      <td>2005-05-31 00:00:00</td>\n",
              "      <td>NaN</td>\n",
              "      <td>4.000000</td>\n",
              "      <td>12.000000</td>\n",
              "      <td>2005.000000</td>\n",
              "      <td>NaN</td>\n",
              "      <td>NaN</td>\n",
              "      <td>NaN</td>\n",
              "      <td>NaN</td>\n",
              "      <td>NaN</td>\n",
              "      <td>NaN</td>\n",
              "      <td>NaN</td>\n",
              "      <td>NaN</td>\n",
              "      <td>NaN</td>\n",
              "      <td>NaN</td>\n",
              "    </tr>\n",
              "    <tr>\n",
              "      <th>std</th>\n",
              "      <td>92.105811</td>\n",
              "      <td>9.418095</td>\n",
              "      <td>19.812862</td>\n",
              "      <td>4.126647</td>\n",
              "      <td>1074.523578</td>\n",
              "      <td>NaN</td>\n",
              "      <td>NaN</td>\n",
              "      <td>1.206843</td>\n",
              "      <td>3.666862</td>\n",
              "      <td>0.697867</td>\n",
              "      <td>NaN</td>\n",
              "      <td>NaN</td>\n",
              "      <td>NaN</td>\n",
              "      <td>NaN</td>\n",
              "      <td>NaN</td>\n",
              "      <td>NaN</td>\n",
              "      <td>NaN</td>\n",
              "      <td>NaN</td>\n",
              "      <td>NaN</td>\n",
              "      <td>NaN</td>\n",
              "    </tr>\n",
              "  </tbody>\n",
              "</table>\n",
              "</div>\n",
              "    <div class=\"colab-df-buttons\">\n",
              "\n",
              "  <div class=\"colab-df-container\">\n",
              "    <button class=\"colab-df-convert\" onclick=\"convertToInteractive('df-d3dea25c-1e59-4f3e-b1fa-cc6102db99fc')\"\n",
              "            title=\"Convert this dataframe to an interactive table.\"\n",
              "            style=\"display:none;\">\n",
              "\n",
              "  <svg xmlns=\"http://www.w3.org/2000/svg\" height=\"24px\" viewBox=\"0 -960 960 960\">\n",
              "    <path d=\"M120-120v-720h720v720H120Zm60-500h600v-160H180v160Zm220 220h160v-160H400v160Zm0 220h160v-160H400v160ZM180-400h160v-160H180v160Zm440 0h160v-160H620v160ZM180-180h160v-160H180v160Zm440 0h160v-160H620v160Z\"/>\n",
              "  </svg>\n",
              "    </button>\n",
              "\n",
              "  <style>\n",
              "    .colab-df-container {\n",
              "      display:flex;\n",
              "      gap: 12px;\n",
              "    }\n",
              "\n",
              "    .colab-df-convert {\n",
              "      background-color: #E8F0FE;\n",
              "      border: none;\n",
              "      border-radius: 50%;\n",
              "      cursor: pointer;\n",
              "      display: none;\n",
              "      fill: #1967D2;\n",
              "      height: 32px;\n",
              "      padding: 0 0 0 0;\n",
              "      width: 32px;\n",
              "    }\n",
              "\n",
              "    .colab-df-convert:hover {\n",
              "      background-color: #E2EBFA;\n",
              "      box-shadow: 0px 1px 2px rgba(60, 64, 67, 0.3), 0px 1px 3px 1px rgba(60, 64, 67, 0.15);\n",
              "      fill: #174EA6;\n",
              "    }\n",
              "\n",
              "    .colab-df-buttons div {\n",
              "      margin-bottom: 4px;\n",
              "    }\n",
              "\n",
              "    [theme=dark] .colab-df-convert {\n",
              "      background-color: #3B4455;\n",
              "      fill: #D2E3FC;\n",
              "    }\n",
              "\n",
              "    [theme=dark] .colab-df-convert:hover {\n",
              "      background-color: #434B5C;\n",
              "      box-shadow: 0px 1px 3px 1px rgba(0, 0, 0, 0.15);\n",
              "      filter: drop-shadow(0px 1px 2px rgba(0, 0, 0, 0.3));\n",
              "      fill: #FFFFFF;\n",
              "    }\n",
              "  </style>\n",
              "\n",
              "    <script>\n",
              "      const buttonEl =\n",
              "        document.querySelector('#df-d3dea25c-1e59-4f3e-b1fa-cc6102db99fc button.colab-df-convert');\n",
              "      buttonEl.style.display =\n",
              "        google.colab.kernel.accessAllowed ? 'block' : 'none';\n",
              "\n",
              "      async function convertToInteractive(key) {\n",
              "        const element = document.querySelector('#df-d3dea25c-1e59-4f3e-b1fa-cc6102db99fc');\n",
              "        const dataTable =\n",
              "          await google.colab.kernel.invokeFunction('convertToInteractive',\n",
              "                                                    [key], {});\n",
              "        if (!dataTable) return;\n",
              "\n",
              "        const docLinkHtml = 'Like what you see? Visit the ' +\n",
              "          '<a target=\"_blank\" href=https://colab.research.google.com/notebooks/data_table.ipynb>data table notebook</a>'\n",
              "          + ' to learn more about interactive tables.';\n",
              "        element.innerHTML = '';\n",
              "        dataTable['output_type'] = 'display_data';\n",
              "        await google.colab.output.renderOutput(dataTable, element);\n",
              "        const docLink = document.createElement('div');\n",
              "        docLink.innerHTML = docLinkHtml;\n",
              "        element.appendChild(docLink);\n",
              "      }\n",
              "    </script>\n",
              "  </div>\n",
              "\n",
              "\n",
              "    <div id=\"df-639ce758-c692-4212-b6dc-1c5b46a97452\">\n",
              "      <button class=\"colab-df-quickchart\" onclick=\"quickchart('df-639ce758-c692-4212-b6dc-1c5b46a97452')\"\n",
              "                title=\"Suggest charts\"\n",
              "                style=\"display:none;\">\n",
              "\n",
              "<svg xmlns=\"http://www.w3.org/2000/svg\" height=\"24px\"viewBox=\"0 0 24 24\"\n",
              "     width=\"24px\">\n",
              "    <g>\n",
              "        <path d=\"M19 3H5c-1.1 0-2 .9-2 2v14c0 1.1.9 2 2 2h14c1.1 0 2-.9 2-2V5c0-1.1-.9-2-2-2zM9 17H7v-7h2v7zm4 0h-2V7h2v10zm4 0h-2v-4h2v4z\"/>\n",
              "    </g>\n",
              "</svg>\n",
              "      </button>\n",
              "\n",
              "<style>\n",
              "  .colab-df-quickchart {\n",
              "      --bg-color: #E8F0FE;\n",
              "      --fill-color: #1967D2;\n",
              "      --hover-bg-color: #E2EBFA;\n",
              "      --hover-fill-color: #174EA6;\n",
              "      --disabled-fill-color: #AAA;\n",
              "      --disabled-bg-color: #DDD;\n",
              "  }\n",
              "\n",
              "  [theme=dark] .colab-df-quickchart {\n",
              "      --bg-color: #3B4455;\n",
              "      --fill-color: #D2E3FC;\n",
              "      --hover-bg-color: #434B5C;\n",
              "      --hover-fill-color: #FFFFFF;\n",
              "      --disabled-bg-color: #3B4455;\n",
              "      --disabled-fill-color: #666;\n",
              "  }\n",
              "\n",
              "  .colab-df-quickchart {\n",
              "    background-color: var(--bg-color);\n",
              "    border: none;\n",
              "    border-radius: 50%;\n",
              "    cursor: pointer;\n",
              "    display: none;\n",
              "    fill: var(--fill-color);\n",
              "    height: 32px;\n",
              "    padding: 0;\n",
              "    width: 32px;\n",
              "  }\n",
              "\n",
              "  .colab-df-quickchart:hover {\n",
              "    background-color: var(--hover-bg-color);\n",
              "    box-shadow: 0 1px 2px rgba(60, 64, 67, 0.3), 0 1px 3px 1px rgba(60, 64, 67, 0.15);\n",
              "    fill: var(--button-hover-fill-color);\n",
              "  }\n",
              "\n",
              "  .colab-df-quickchart-complete:disabled,\n",
              "  .colab-df-quickchart-complete:disabled:hover {\n",
              "    background-color: var(--disabled-bg-color);\n",
              "    fill: var(--disabled-fill-color);\n",
              "    box-shadow: none;\n",
              "  }\n",
              "\n",
              "  .colab-df-spinner {\n",
              "    border: 2px solid var(--fill-color);\n",
              "    border-color: transparent;\n",
              "    border-bottom-color: var(--fill-color);\n",
              "    animation:\n",
              "      spin 1s steps(1) infinite;\n",
              "  }\n",
              "\n",
              "  @keyframes spin {\n",
              "    0% {\n",
              "      border-color: transparent;\n",
              "      border-bottom-color: var(--fill-color);\n",
              "      border-left-color: var(--fill-color);\n",
              "    }\n",
              "    20% {\n",
              "      border-color: transparent;\n",
              "      border-left-color: var(--fill-color);\n",
              "      border-top-color: var(--fill-color);\n",
              "    }\n",
              "    30% {\n",
              "      border-color: transparent;\n",
              "      border-left-color: var(--fill-color);\n",
              "      border-top-color: var(--fill-color);\n",
              "      border-right-color: var(--fill-color);\n",
              "    }\n",
              "    40% {\n",
              "      border-color: transparent;\n",
              "      border-right-color: var(--fill-color);\n",
              "      border-top-color: var(--fill-color);\n",
              "    }\n",
              "    60% {\n",
              "      border-color: transparent;\n",
              "      border-right-color: var(--fill-color);\n",
              "    }\n",
              "    80% {\n",
              "      border-color: transparent;\n",
              "      border-right-color: var(--fill-color);\n",
              "      border-bottom-color: var(--fill-color);\n",
              "    }\n",
              "    90% {\n",
              "      border-color: transparent;\n",
              "      border-bottom-color: var(--fill-color);\n",
              "    }\n",
              "  }\n",
              "</style>\n",
              "\n",
              "      <script>\n",
              "        async function quickchart(key) {\n",
              "          const quickchartButtonEl =\n",
              "            document.querySelector('#' + key + ' button');\n",
              "          quickchartButtonEl.disabled = true;  // To prevent multiple clicks.\n",
              "          quickchartButtonEl.classList.add('colab-df-spinner');\n",
              "          try {\n",
              "            const charts = await google.colab.kernel.invokeFunction(\n",
              "                'suggestCharts', [key], {});\n",
              "          } catch (error) {\n",
              "            console.error('Error during call to suggestCharts:', error);\n",
              "          }\n",
              "          quickchartButtonEl.classList.remove('colab-df-spinner');\n",
              "          quickchartButtonEl.classList.add('colab-df-quickchart-complete');\n",
              "        }\n",
              "        (() => {\n",
              "          let quickchartButtonEl =\n",
              "            document.querySelector('#df-639ce758-c692-4212-b6dc-1c5b46a97452 button');\n",
              "          quickchartButtonEl.style.display =\n",
              "            google.colab.kernel.accessAllowed ? 'block' : 'none';\n",
              "        })();\n",
              "      </script>\n",
              "    </div>\n",
              "\n",
              "    </div>\n",
              "  </div>\n"
            ],
            "application/vnd.google.colaboratory.intrinsic+json": {
              "type": "dataframe",
              "summary": "{\n  \"name\": \"data\",\n  \"rows\": 11,\n  \"fields\": [\n    {\n      \"column\": \"ORDERNUMBER\",\n      \"properties\": {\n        \"dtype\": \"number\",\n        \"std\": 4140.53052114193,\n        \"min\": 92.1058109396565,\n        \"max\": 10425.0,\n        \"num_unique_values\": 8,\n        \"samples\": [\n          10258.627701027275,\n          10333.0,\n          2823.0\n        ],\n        \"semantic_type\": \"\",\n        \"description\": \"\"\n      }\n    },\n    {\n      \"column\": \"QUANTITYORDERED\",\n      \"properties\": {\n        \"dtype\": \"number\",\n        \"std\": 985.77573596037,\n        \"min\": 6.0,\n        \"max\": 2823.0,\n        \"num_unique_values\": 8,\n        \"samples\": [\n          35.0332979100248,\n          42.0,\n          2823.0\n        ],\n        \"semantic_type\": \"\",\n        \"description\": \"\"\n      }\n    },\n    {\n      \"column\": \"PRICEEACH\",\n      \"properties\": {\n        \"dtype\": \"number\",\n        \"std\": 973.4875004627722,\n        \"min\": 19.812862055528523,\n        \"max\": 2823.0,\n        \"num_unique_values\": 7,\n        \"samples\": [\n          2823.0,\n          84.3306269925611,\n          100.0\n        ],\n        \"semantic_type\": \"\",\n        \"description\": \"\"\n      }\n    },\n    {\n      \"column\": \"ORDERLINENUMBER\",\n      \"properties\": {\n        \"dtype\": \"number\",\n        \"std\": 995.6916427647839,\n        \"min\": 1.0,\n        \"max\": 2823.0,\n        \"num_unique_values\": 8,\n        \"samples\": [\n          6.44916755224938,\n          9.0,\n          2823.0\n        ],\n        \"semantic_type\": \"\",\n        \"description\": \"\"\n      }\n    },\n    {\n      \"column\": \"SALES\",\n      \"properties\": {\n        \"dtype\": \"number\",\n        \"std\": 2611.9505482882005,\n        \"min\": 482.13,\n        \"max\": 9048.16,\n        \"num_unique_values\": 8,\n        \"samples\": [\n          2953.806560396741,\n          3700.0,\n          2823.0\n        ],\n        \"semantic_type\": \"\",\n        \"description\": \"\"\n      }\n    },\n    {\n      \"column\": \"ORDERDATE\",\n      \"properties\": {\n        \"dtype\": \"date\",\n        \"min\": \"1970-01-01 00:00:00.000002823\",\n        \"max\": \"2005-05-31 00:00:00\",\n        \"num_unique_values\": 7,\n        \"samples\": [\n          \"2823\",\n          \"2004-05-09 07:26:50.626992640\",\n          \"2004-11-17 00:00:00\"\n        ],\n        \"semantic_type\": \"\",\n        \"description\": \"\"\n      }\n    },\n    {\n      \"column\": \"STATUS\",\n      \"properties\": {\n        \"dtype\": \"category\",\n        \"num_unique_values\": 4,\n        \"samples\": [\n          6,\n          \"2628\",\n          \"2823\"\n        ],\n        \"semantic_type\": \"\",\n        \"description\": \"\"\n      }\n    },\n    {\n      \"column\": \"QTR_ID\",\n      \"properties\": {\n        \"dtype\": \"number\",\n        \"std\": 997.176626804477,\n        \"min\": 1.0,\n        \"max\": 2823.0,\n        \"num_unique_values\": 7,\n        \"samples\": [\n          2823.0,\n          2.715905065533121,\n          4.0\n        ],\n        \"semantic_type\": \"\",\n        \"description\": \"\"\n      }\n    },\n    {\n      \"column\": \"MONTH_ID\",\n      \"properties\": {\n        \"dtype\": \"number\",\n        \"std\": 995.7269533569618,\n        \"min\": 1.0,\n        \"max\": 2823.0,\n        \"num_unique_values\": 8,\n        \"samples\": [\n          7.0835990081473605,\n          11.0,\n          2823.0\n        ],\n        \"semantic_type\": \"\",\n        \"description\": \"\"\n      }\n    },\n    {\n      \"column\": \"YEAR_ID\",\n      \"properties\": {\n        \"dtype\": \"number\",\n        \"std\": 802.5236868234341,\n        \"min\": 0.6978671254678477,\n        \"max\": 2823.0,\n        \"num_unique_values\": 6,\n        \"samples\": [\n          2823.0,\n          2003.8111937654976,\n          0.6978671254678477\n        ],\n        \"semantic_type\": \"\",\n        \"description\": \"\"\n      }\n    },\n    {\n      \"column\": \"PRODUCTLINE\",\n      \"properties\": {\n        \"dtype\": \"category\",\n        \"num_unique_values\": 4,\n        \"samples\": [\n          8,\n          \"917\",\n          \"2823\"\n        ],\n        \"semantic_type\": \"\",\n        \"description\": \"\"\n      }\n    },\n    {\n      \"column\": \"PRODUCTCODE\",\n      \"properties\": {\n        \"dtype\": \"category\",\n        \"num_unique_values\": 4,\n        \"samples\": [\n          110,\n          \"141\",\n          \"2823\"\n        ],\n        \"semantic_type\": \"\",\n        \"description\": \"\"\n      }\n    },\n    {\n      \"column\": \"CUSTOMERNAME\",\n      \"properties\": {\n        \"dtype\": \"category\",\n        \"num_unique_values\": 4,\n        \"samples\": [\n          93,\n          \"247\",\n          \"2823\"\n        ],\n        \"semantic_type\": \"\",\n        \"description\": \"\"\n      }\n    },\n    {\n      \"column\": \"PHONE\",\n      \"properties\": {\n        \"dtype\": \"category\",\n        \"num_unique_values\": 4,\n        \"samples\": [\n          92,\n          \"244\",\n          \"2823\"\n        ],\n        \"semantic_type\": \"\",\n        \"description\": \"\"\n      }\n    },\n    {\n      \"column\": \"ADDRESSLINE1\",\n      \"properties\": {\n        \"dtype\": \"category\",\n        \"num_unique_values\": 4,\n        \"samples\": [\n          93,\n          \"251\",\n          \"2823\"\n        ],\n        \"semantic_type\": \"\",\n        \"description\": \"\"\n      }\n    },\n    {\n      \"column\": \"CITY\",\n      \"properties\": {\n        \"dtype\": \"category\",\n        \"num_unique_values\": 4,\n        \"samples\": [\n          74,\n          \"293\",\n          \"2823\"\n        ],\n        \"semantic_type\": \"\",\n        \"description\": \"\"\n      }\n    },\n    {\n      \"column\": \"COUNTRY\",\n      \"properties\": {\n        \"dtype\": \"category\",\n        \"num_unique_values\": 4,\n        \"samples\": [\n          20,\n          \"964\",\n          \"2823\"\n        ],\n        \"semantic_type\": \"\",\n        \"description\": \"\"\n      }\n    },\n    {\n      \"column\": \"CONTACTLASTNAME\",\n      \"properties\": {\n        \"dtype\": \"category\",\n        \"num_unique_values\": 4,\n        \"samples\": [\n          78,\n          \"246\",\n          \"2823\"\n        ],\n        \"semantic_type\": \"\",\n        \"description\": \"\"\n      }\n    },\n    {\n      \"column\": \"CONTACTFIRSTNAME\",\n      \"properties\": {\n        \"dtype\": \"category\",\n        \"num_unique_values\": 4,\n        \"samples\": [\n          73,\n          \"250\",\n          \"2823\"\n        ],\n        \"semantic_type\": \"\",\n        \"description\": \"\"\n      }\n    },\n    {\n      \"column\": \"DEALSIZE\",\n      \"properties\": {\n        \"dtype\": \"category\",\n        \"num_unique_values\": 4,\n        \"samples\": [\n          3,\n          \"1451\",\n          \"2823\"\n        ],\n        \"semantic_type\": \"\",\n        \"description\": \"\"\n      }\n    }\n  ]\n}"
            }
          },
          "metadata": {},
          "execution_count": 14
        }
      ]
    },
    {
      "cell_type": "code",
      "source": [
        "# Analysis of ORDERNUMBER column\n",
        "print(\"Unique Order Numbers in original data:\", original_data['ORDERNUMBER'].nunique())\n",
        "print(\"Any duplicates?\", original_data['ORDERNUMBER'].duplicated().sum())\n",
        "print(\"NANs\", data['ORDERNUMBER'].isnull().sum())\n",
        "print(\"Unique Order Numbers:\", data['ORDERNUMBER'].nunique())\n",
        "print(\"Any duplicates?\", data['ORDERNUMBER'].duplicated().sum())\n"
      ],
      "metadata": {
        "colab": {
          "base_uri": "https://localhost:8080/"
        },
        "id": "qPhK7s99Ej47",
        "outputId": "3703ceb7-a802-414d-e492-227549f2eb22"
      },
      "execution_count": null,
      "outputs": [
        {
          "output_type": "stream",
          "name": "stdout",
          "text": [
            "Unique Order Numbers in original data: 307\n",
            "Any duplicates? 2515\n",
            "NANs 0\n",
            "Unique Order Numbers: 307\n",
            "Any duplicates? 2516\n"
          ]
        }
      ]
    },
    {
      "cell_type": "code",
      "source": [
        "# Part 2\n",
        "print(f\" Number of NULL values in the dataset(column-wise) : {data.isnull().sum()}\")"
      ],
      "metadata": {
        "colab": {
          "base_uri": "https://localhost:8080/"
        },
        "id": "-sWIjl389ySE",
        "outputId": "15d88a35-f94a-4665-c506-a81fff89921a"
      },
      "execution_count": null,
      "outputs": [
        {
          "output_type": "stream",
          "name": "stdout",
          "text": [
            " Number of NULL values in the dataset(column-wise) : ORDERNUMBER         0\n",
            "QUANTITYORDERED     0\n",
            "PRICEEACH           0\n",
            "ORDERLINENUMBER     0\n",
            "SALES               0\n",
            "ORDERDATE           0\n",
            "STATUS              0\n",
            "QTR_ID              0\n",
            "MONTH_ID            0\n",
            "YEAR_ID             0\n",
            "PRODUCTLINE         0\n",
            "PRODUCTCODE         0\n",
            "CUSTOMERNAME        0\n",
            "PHONE               0\n",
            "ADDRESSLINE1        0\n",
            "CITY                0\n",
            "COUNTRY             0\n",
            "CONTACTLASTNAME     0\n",
            "CONTACTFIRSTNAME    0\n",
            "DEALSIZE            0\n",
            "dtype: int64\n"
          ]
        }
      ]
    },
    {
      "cell_type": "code",
      "source": [
        "print(data.columns)"
      ],
      "metadata": {
        "colab": {
          "base_uri": "https://localhost:8080/"
        },
        "id": "fI5x2VJsbrmD",
        "outputId": "80647590-b483-41cb-fd4e-9ea184166c33"
      },
      "execution_count": null,
      "outputs": [
        {
          "output_type": "stream",
          "name": "stdout",
          "text": [
            "Index(['ORDERNUMBER', 'QUANTITYORDERED', 'PRICEEACH', 'ORDERLINENUMBER',\n",
            "       'SALES', 'ORDERDATE', 'STATUS', 'QTR_ID', 'MONTH_ID', 'YEAR_ID',\n",
            "       'PRODUCTLINE', 'PRODUCTCODE', 'CUSTOMERNAME', 'PHONE', 'ADDRESSLINE1',\n",
            "       'CITY', 'COUNTRY', 'CONTACTLASTNAME', 'CONTACTFIRSTNAME', 'DEALSIZE'],\n",
            "      dtype='object')\n"
          ]
        }
      ]
    },
    {
      "cell_type": "code",
      "source": [
        "data.drop_duplicates(inplace = True)"
      ],
      "metadata": {
        "id": "8bGB_6E3cqwl"
      },
      "execution_count": null,
      "outputs": []
    },
    {
      "cell_type": "code",
      "source": [
        "data['PRODUCTLINE'] = data['PRODUCTLINE'].str.strip().str.lower()\n",
        "data['PRICEEACH'] = pd.to_numeric(data['PRICEEACH'], errors = 'coerce')\n",
        "data['QUANTITYORDERED'] = pd.to_numeric(data['QUANTITYORDERED'], errors = 'coerce')\n",
        "data['ORDERDATE'] = pd.to_datetime(data['ORDERDATE'], errors = 'coerce')"
      ],
      "metadata": {
        "id": "OVG_o2vZdYXf"
      },
      "execution_count": null,
      "outputs": []
    },
    {
      "cell_type": "code",
      "source": [
        "data['PRODUCTLINE']"
      ],
      "metadata": {
        "colab": {
          "base_uri": "https://localhost:8080/",
          "height": 458
        },
        "id": "r-KIm1BCq27i",
        "outputId": "984a7a75-47a7-4f67-e6b9-b172c6d104d4"
      },
      "execution_count": null,
      "outputs": [
        {
          "output_type": "execute_result",
          "data": {
            "text/plain": [
              "0       motorcycles\n",
              "1       motorcycles\n",
              "2       motorcycles\n",
              "3       motorcycles\n",
              "4       motorcycles\n",
              "           ...     \n",
              "2818          ships\n",
              "2819          ships\n",
              "2820          ships\n",
              "2821          ships\n",
              "2822          ships\n",
              "Name: PRODUCTLINE, Length: 2823, dtype: object"
            ],
            "text/html": [
              "<div>\n",
              "<style scoped>\n",
              "    .dataframe tbody tr th:only-of-type {\n",
              "        vertical-align: middle;\n",
              "    }\n",
              "\n",
              "    .dataframe tbody tr th {\n",
              "        vertical-align: top;\n",
              "    }\n",
              "\n",
              "    .dataframe thead th {\n",
              "        text-align: right;\n",
              "    }\n",
              "</style>\n",
              "<table border=\"1\" class=\"dataframe\">\n",
              "  <thead>\n",
              "    <tr style=\"text-align: right;\">\n",
              "      <th></th>\n",
              "      <th>PRODUCTLINE</th>\n",
              "    </tr>\n",
              "  </thead>\n",
              "  <tbody>\n",
              "    <tr>\n",
              "      <th>0</th>\n",
              "      <td>motorcycles</td>\n",
              "    </tr>\n",
              "    <tr>\n",
              "      <th>1</th>\n",
              "      <td>motorcycles</td>\n",
              "    </tr>\n",
              "    <tr>\n",
              "      <th>2</th>\n",
              "      <td>motorcycles</td>\n",
              "    </tr>\n",
              "    <tr>\n",
              "      <th>3</th>\n",
              "      <td>motorcycles</td>\n",
              "    </tr>\n",
              "    <tr>\n",
              "      <th>4</th>\n",
              "      <td>motorcycles</td>\n",
              "    </tr>\n",
              "    <tr>\n",
              "      <th>...</th>\n",
              "      <td>...</td>\n",
              "    </tr>\n",
              "    <tr>\n",
              "      <th>2818</th>\n",
              "      <td>ships</td>\n",
              "    </tr>\n",
              "    <tr>\n",
              "      <th>2819</th>\n",
              "      <td>ships</td>\n",
              "    </tr>\n",
              "    <tr>\n",
              "      <th>2820</th>\n",
              "      <td>ships</td>\n",
              "    </tr>\n",
              "    <tr>\n",
              "      <th>2821</th>\n",
              "      <td>ships</td>\n",
              "    </tr>\n",
              "    <tr>\n",
              "      <th>2822</th>\n",
              "      <td>ships</td>\n",
              "    </tr>\n",
              "  </tbody>\n",
              "</table>\n",
              "<p>2823 rows × 1 columns</p>\n",
              "</div><br><label><b>dtype:</b> object</label>"
            ]
          },
          "metadata": {},
          "execution_count": 20
        }
      ]
    },
    {
      "cell_type": "markdown",
      "source": [
        "## 3. Feature Engineering\n",
        "#### Adding 5 new columns\n",
        "#### i. Total Price - product of quantity and unit price\n",
        "#### ii. Month, Day and Hour - Extracted from ORDERDATE column.\n",
        "#### iii. City and Country Column\n"
      ],
      "metadata": {
        "id": "JvNmNz4ZkKbg"
      }
    },
    {
      "cell_type": "code",
      "source": [
        "data['TOTALPRICE'] = data['QUANTITYORDERED'] * data['PRICEEACH']"
      ],
      "metadata": {
        "id": "IctR3lL5eyLO"
      },
      "execution_count": null,
      "outputs": []
    },
    {
      "cell_type": "code",
      "source": [
        "data['MONTH'] = data['ORDERDATE'].dt.month\n",
        "data['DAY'] = data['ORDERDATE'].dt.day\n",
        "data['HOUR'] = data['ORDERDATE'].dt.hour"
      ],
      "metadata": {
        "id": "pvz4ChoHkr7G"
      },
      "execution_count": null,
      "outputs": []
    },
    {
      "cell_type": "code",
      "source": [
        "data.columns"
      ],
      "metadata": {
        "colab": {
          "base_uri": "https://localhost:8080/"
        },
        "id": "foxfym--lHVZ",
        "outputId": "f1ba7135-07a0-40e6-961a-9275119c7acf"
      },
      "execution_count": null,
      "outputs": [
        {
          "output_type": "execute_result",
          "data": {
            "text/plain": [
              "Index(['ORDERNUMBER', 'QUANTITYORDERED', 'PRICEEACH', 'ORDERLINENUMBER',\n",
              "       'SALES', 'ORDERDATE', 'STATUS', 'QTR_ID', 'MONTH_ID', 'YEAR_ID',\n",
              "       'PRODUCTLINE', 'PRODUCTCODE', 'CUSTOMERNAME', 'PHONE', 'ADDRESSLINE1',\n",
              "       'CITY', 'COUNTRY', 'CONTACTLASTNAME', 'CONTACTFIRSTNAME', 'DEALSIZE',\n",
              "       'TOTALPRICE', 'MONTH', 'DAY', 'HOUR'],\n",
              "      dtype='object')"
            ]
          },
          "metadata": {},
          "execution_count": 24
        }
      ]
    },
    {
      "cell_type": "code",
      "source": [
        "data['CITY'] = data['CITY'].str.strip()\n",
        "data['COUNTRY'] = data['COUNTRY'].str.strip()\n"
      ],
      "metadata": {
        "id": "PzI46LqTlU3u"
      },
      "execution_count": null,
      "outputs": []
    },
    {
      "cell_type": "markdown",
      "source": [
        "## 4. Data Filtering and Querying\n",
        "####i.Retrieved all orders of the product line \"Trucks and Buses\".\n",
        "####ii. Extracted orders made in the month of January.\n",
        "####iii.Identified high-value orders where the total purchase was greater than $500.\n"
      ],
      "metadata": {
        "id": "WrZQR13YopG7"
      }
    },
    {
      "cell_type": "code",
      "source": [
        "# Make sure you’re using the right column name and lowercasing both sides\n",
        "truck_orders = data[data['PRODUCTLINE'].str.strip().str.lower() == 'trucks and buses']\n",
        "print(\"Truck Orders:\\n\", truck_orders.head())\n"
      ],
      "metadata": {
        "colab": {
          "base_uri": "https://localhost:8080/"
        },
        "id": "3nq0BlJ-m_Hr",
        "outputId": "ab60675c-20e3-48cf-8328-b3499bbb8e46"
      },
      "execution_count": null,
      "outputs": [
        {
          "output_type": "stream",
          "name": "stdout",
          "text": [
            "Truck Orders:\n",
            "      ORDERNUMBER  QUANTITYORDERED  PRICEEACH  ORDERLINENUMBER   SALES  \\\n",
            "212      10103.0             27.0      100.0              8.0  2700.0   \n",
            "213      10113.0             21.0      100.0              2.0  2100.0   \n",
            "214      10126.0             21.0      100.0              8.0  2100.0   \n",
            "215      10140.0             38.0      100.0              8.0  3800.0   \n",
            "216      10150.0             30.0      100.0              5.0  3000.0   \n",
            "\n",
            "     ORDERDATE   STATUS  QTR_ID  MONTH_ID  YEAR_ID  ...  \\\n",
            "212 2003-01-29  Shipped       1         1     2003  ...   \n",
            "213 2003-03-26  Shipped       1         3     2003  ...   \n",
            "214 2003-05-28  Shipped       2         5     2003  ...   \n",
            "215 2003-07-24  Shipped       3         7     2003  ...   \n",
            "216 2003-09-19  Shipped       3         9     2003  ...   \n",
            "\n",
            "                             ADDRESSLINE1        CITY    COUNTRY  \\\n",
            "212                Erling Skakkes gate 78     Stavern     Norway   \n",
            "213                       5677 Strong St.  San Rafael        USA   \n",
            "214                        C/ Araquil, 67      Madrid      Spain   \n",
            "215                     9408 Furth Circle  Burlingame        USA   \n",
            "216  Bronz Sok., Bronz Apt. 3/6 Tesvikiye   Singapore  Singapore   \n",
            "\n",
            "    CONTACTLASTNAME CONTACTFIRSTNAME DEALSIZE TOTALPRICE MONTH DAY HOUR  \n",
            "212      Bergulfsen            Jonas   Medium     2700.0     1  29    0  \n",
            "213          Nelson          Valarie   Medium     2100.0     3  26    0  \n",
            "214          Sommer           Mart¡n    Small     2100.0     5  28    0  \n",
            "215          Hirano             Juri   Medium     3800.0     7  24    0  \n",
            "216       Natividad             Eric   Medium     3000.0     9  19    0  \n",
            "\n",
            "[5 rows x 24 columns]\n"
          ]
        }
      ]
    },
    {
      "cell_type": "code",
      "source": [
        "print(data['PRODUCTLINE'].unique())\n"
      ],
      "metadata": {
        "colab": {
          "base_uri": "https://localhost:8080/"
        },
        "id": "Hw-FEztppNEb",
        "outputId": "07027fea-4b20-475b-944c-c7f6c5bab006"
      },
      "execution_count": null,
      "outputs": [
        {
          "output_type": "stream",
          "name": "stdout",
          "text": [
            "['motorcycles' 'unknown' 'classic cars' 'trucks and buses' 'vintage cars'\n",
            " 'planes' 'ships' 'trains']\n"
          ]
        }
      ]
    },
    {
      "cell_type": "code",
      "source": [
        "january_orders = data[data['MONTH'] == 1]\n",
        "print(\"January Orders:\\n\", january_orders.head())"
      ],
      "metadata": {
        "colab": {
          "base_uri": "https://localhost:8080/"
        },
        "id": "wZtfR4Q4poCN",
        "outputId": "6a808564-2f38-45d6-8c1b-b43bf9ac1112"
      },
      "execution_count": null,
      "outputs": [
        {
          "output_type": "stream",
          "name": "stdout",
          "text": [
            "January Orders:\n",
            "     ORDERNUMBER  QUANTITYORDERED  PRICEEACH  ORDERLINENUMBER   SALES  \\\n",
            "9       10211.0             41.0      100.0             14.0  4100.0   \n",
            "10      10223.0             37.0      100.0              1.0  3700.0   \n",
            "26      10103.0             26.0      100.0             11.0  2600.0   \n",
            "27      10112.0             29.0      100.0              1.0  2900.0   \n",
            "36      10215.0             35.0      100.0              3.0  3500.0   \n",
            "\n",
            "    ORDERDATE   STATUS  QTR_ID  MONTH_ID  YEAR_ID  ...  \\\n",
            "9  2004-01-15  Shipped       1         1     2004  ...   \n",
            "10 2004-01-15  Shipped       1         1     2004  ...   \n",
            "26 2003-01-29  Shipped       1         1     2003  ...   \n",
            "27 2003-01-29  Shipped       1         1     2003  ...   \n",
            "36 2004-01-29  Shipped       1         1     2004  ...   \n",
            "\n",
            "              ADDRESSLINE1       CITY    COUNTRY CONTACTLASTNAME  \\\n",
            "9        25, rue Lauriston      Paris     France         Perrier   \n",
            "10       636 St Kilda Road  Melbourne  Australia        Ferguson   \n",
            "26  Erling Skakkes gate 78    Stavern     Norway      Bergulfsen   \n",
            "27         Berguvsvgen  8       Lule     Sweden        Berglund   \n",
            "36       3675 Furth Circle    Burbank        USA        Thompson   \n",
            "\n",
            "   CONTACTFIRSTNAME DEALSIZE TOTALPRICE MONTH DAY HOUR  \n",
            "9         Dominique   Medium     4100.0     1  15    0  \n",
            "10            Peter   Medium     3700.0     1  15    0  \n",
            "26            Jonas   Medium     2600.0     1  29    0  \n",
            "27        Christina    Large     2900.0     1  29    0  \n",
            "36            Steve   Medium     3500.0     1  29    0  \n",
            "\n",
            "[5 rows x 24 columns]\n"
          ]
        }
      ]
    },
    {
      "cell_type": "code",
      "source": [
        "high_price_orders = data[data['TOTALPRICE'] > 500]\n",
        "print(\"High Price Orders:\\n\", high_price_orders.head())"
      ],
      "metadata": {
        "colab": {
          "base_uri": "https://localhost:8080/"
        },
        "id": "MUWi_Bi3sQLf",
        "outputId": "34bdfdc8-db28-485e-e2d2-f6b6349da7fa"
      },
      "execution_count": null,
      "outputs": [
        {
          "output_type": "stream",
          "name": "stdout",
          "text": [
            "High Price Orders:\n",
            "    ORDERNUMBER  QUANTITYORDERED  PRICEEACH  ORDERLINENUMBER    SALES  \\\n",
            "0      10107.0             30.0      95.70              2.0  2871.00   \n",
            "1      10121.0             34.0      81.35              5.0  2765.90   \n",
            "2      10134.0             41.0      94.74              2.0  3884.34   \n",
            "3      10145.0             45.0      83.26              6.0  3746.70   \n",
            "4      10159.0             49.0     100.00             14.0  4900.00   \n",
            "\n",
            "   ORDERDATE   STATUS  QTR_ID  MONTH_ID  YEAR_ID  ...  \\\n",
            "0 2003-02-24  Shipped       1         2     2003  ...   \n",
            "1 2003-02-24  Shipped       1         2     2003  ...   \n",
            "2 2003-07-01  Shipped       3         7     2003  ...   \n",
            "3 2003-08-25  Shipped       3         8     2003  ...   \n",
            "4 2003-10-10  Shipped       4        10     2003  ...   \n",
            "\n",
            "                    ADDRESSLINE1           CITY COUNTRY CONTACTLASTNAME  \\\n",
            "0        897 Long Airport Avenue            NYC     USA              Yu   \n",
            "1             59 rue de l'Abbaye          Reims  France         Henriot   \n",
            "2  27 rue du Colonel Pierre Avia          Paris  France        Da Cunha   \n",
            "3             78934 Hillside Dr.       Pasadena     USA           Young   \n",
            "4                7734 Strong St.  San Francisco     USA           Brown   \n",
            "\n",
            "  CONTACTFIRSTNAME DEALSIZE TOTALPRICE MONTH DAY HOUR  \n",
            "0             Kwai    Small    2871.00     2  24    0  \n",
            "1             Paul    Small    2765.90     2  24    0  \n",
            "2           Daniel   Medium    3884.34     7   1    0  \n",
            "3            Julie   Medium    3746.70     8  25    0  \n",
            "4            Julie   Medium    4900.00    10  10    0  \n",
            "\n",
            "[5 rows x 24 columns]\n"
          ]
        }
      ]
    },
    {
      "cell_type": "code",
      "source": [
        "def filter_orders(data, product=None, month=None, min_total_price=None):\n",
        "    \"\"\"\n",
        "    Filters the sales data based on optional filters.\n",
        "\n",
        "    Parameters:\n",
        "    - product (str): Product line to filter (e.g., 'classic cars')\n",
        "    - month (int): Month number (1–12)\n",
        "    - min_total_price (float): Minimum Total Price\n",
        "\n",
        "    Returns:\n",
        "    - Filtered DataFrame\n",
        "    \"\"\"\n",
        "    filtered = data.copy()\n",
        "\n",
        "    if product:\n",
        "        filtered = filtered[filtered['PRODUCTLINE'].str.lower() == product.lower()]\n",
        "\n",
        "    if month:\n",
        "        filtered = filtered[filtered['MONTH'] == month]\n",
        "\n",
        "    if min_total_price:\n",
        "        filtered = filtered[filtered['TOTALPRICE'] > min_total_price]\n",
        "\n",
        "    return filtered\n",
        "\n",
        "prod = input(\"Enter product line to filter (or press Enter to skip): \")\n",
        "mon = input(\"Enter month number (1–12, or press Enter to skip): \")\n",
        "price = input(\"Enter min total price (or press Enter to skip): \")\n",
        "\n",
        "# Convert input to correct types\n",
        "mon = int(mon) if mon else None\n",
        "price = float(price) if price else None\n",
        "\n",
        "# Call filter\n",
        "result = filter_orders(data, product=prod, month=mon, min_total_price=price)\n",
        "print(result.head())\n",
        "\n",
        "\n"
      ],
      "metadata": {
        "colab": {
          "base_uri": "https://localhost:8080/"
        },
        "id": "-1FDmk2dM-2q",
        "outputId": "3581f450-2922-4850-faed-f3cf8174da0f"
      },
      "execution_count": null,
      "outputs": [
        {
          "output_type": "stream",
          "name": "stdout",
          "text": [
            "Enter product line to filter (or press Enter to skip): classic cars\n",
            "Enter month number (1–12, or press Enter to skip): 2\n",
            "Enter min total price (or press Enter to skip): 45\n",
            "     ORDERNUMBER  QUANTITYORDERED  PRICEEACH  ORDERLINENUMBER   SALES  \\\n",
            "50       10381.0             35.0      100.0              3.0  3500.0   \n",
            "106      10105.0             50.0      100.0              2.0  5000.0   \n",
            "116      10222.0             35.0      100.0             12.0  3500.0   \n",
            "129      10384.0             34.0      100.0              4.0  3400.0   \n",
            "143      10217.0             48.0      100.0              4.0  4800.0   \n",
            "\n",
            "     ORDERDATE   STATUS  QTR_ID  MONTH_ID  YEAR_ID  ...  \\\n",
            "50  2005-02-17  Shipped       1         2     2005  ...   \n",
            "106 2003-02-11  Shipped       1         2     2003  ...   \n",
            "116 2004-02-19  Shipped       1         2     2004  ...   \n",
            "129 2005-02-23  Shipped       1         2     2005  ...   \n",
            "143 2004-02-04  Shipped       1         2     2004  ...   \n",
            "\n",
            "                                ADDRESSLINE1           CITY    COUNTRY  \\\n",
            "50                           7734 Strong St.  San Francisco        USA   \n",
            "106                             Vinb'ltet 34      Kobenhavn    Denmark   \n",
            "116                         361 Furth Circle      San Diego        USA   \n",
            "129                          7734 Strong St.  San Francisco        USA   \n",
            "143  Village Close - 106 Linden Road Sandown      Singapore  Singapore   \n",
            "\n",
            "    CONTACTLASTNAME CONTACTFIRSTNAME DEALSIZE TOTALPRICE MONTH DAY HOUR  \n",
            "50            Brown            Julie    Large     3500.0     2  17    0  \n",
            "106        Petersen            Jytte    Large     5000.0     2  11    0  \n",
            "116        Thompson          Valarie   Medium     3500.0     2  19    0  \n",
            "129           Brown            Julie   Medium     3400.0     2  23    0  \n",
            "143       Victorino            Wendy    Large     4800.0     2   4    0  \n",
            "\n",
            "[5 rows x 24 columns]\n"
          ]
        }
      ]
    },
    {
      "cell_type": "markdown",
      "source": [
        "##5. Grouping and aggregation\n",
        "####i. Calculated total revenue generated by each product line.\n",
        "####ii.Computed total sales per month to identify seasonal trends.\n",
        "####iii.Identified the most frequently purchased product line based on order count.\n"
      ],
      "metadata": {
        "id": "ydlcGA9_tDNw"
      }
    },
    {
      "cell_type": "code",
      "source": [
        "revenue_by_product = data.groupby('PRODUCTLINE')['TOTALPRICE'].sum()\n",
        "print(\"Revenue by Product:\\n\", revenue_by_product)"
      ],
      "metadata": {
        "colab": {
          "base_uri": "https://localhost:8080/"
        },
        "id": "3FfZbfQrp72J",
        "outputId": "a7893dbb-24cf-4833-aac3-43afd3db44d6"
      },
      "execution_count": null,
      "outputs": [
        {
          "output_type": "stream",
          "name": "stdout",
          "text": [
            "Revenue by Product:\n",
            " PRODUCTLINE\n",
            "classic cars        2828586.61\n",
            "motorcycles          921021.54\n",
            "planes               846639.98\n",
            "ships                638964.54\n",
            "trains               201346.17\n",
            "trucks and buses     907019.65\n",
            "unknown              415797.20\n",
            "vintage cars        1579220.23\n",
            "Name: TOTALPRICE, dtype: float64\n"
          ]
        }
      ]
    },
    {
      "cell_type": "code",
      "source": [
        "monthly_sales = data  .groupby(['MONTH'])['TOTALPRICE'].sum()\n",
        "print(\"Monthly Sales:\\n\", monthly_sales)"
      ],
      "metadata": {
        "colab": {
          "base_uri": "https://localhost:8080/"
        },
        "id": "Vfz5TUbWtPvT",
        "outputId": "2cb90f19-a937-4a50-cacf-9360380de3d0"
      },
      "execution_count": null,
      "outputs": [
        {
          "output_type": "stream",
          "name": "stdout",
          "text": [
            "Monthly Sales:\n",
            " MONTH\n",
            "1      671053.35\n",
            "2      679241.90\n",
            "3      643042.52\n",
            "4      564408.34\n",
            "5      751886.35\n",
            "6      348658.74\n",
            "7      399305.70\n",
            "8      566520.23\n",
            "9      494420.00\n",
            "10     946266.13\n",
            "11    1738405.83\n",
            "12     535386.83\n",
            "Name: TOTALPRICE, dtype: float64\n"
          ]
        }
      ]
    },
    {
      "cell_type": "code",
      "source": [
        "product_counts = data['PRODUCTLINE'].value_counts()\n",
        "print(\"Product Counts:\\n\", product_counts.head(1))"
      ],
      "metadata": {
        "colab": {
          "base_uri": "https://localhost:8080/"
        },
        "id": "anKNeMMHte4C",
        "outputId": "7c4f5427-8bb1-44da-b905-083048bc093b"
      },
      "execution_count": null,
      "outputs": [
        {
          "output_type": "stream",
          "name": "stdout",
          "text": [
            "Product Counts:\n",
            " PRODUCTLINE\n",
            "classic cars    917\n",
            "Name: count, dtype: int64\n"
          ]
        }
      ]
    },
    {
      "cell_type": "markdown",
      "source": [
        "##6. Sorting and Indexing\n",
        "####i. Sorted product lines by total revenue in descending order using groupby() and sort_values().\n",
        "####ii. Set the ORDERNUMBER column as the DataFrame index for better referencing and row-level operations."
      ],
      "metadata": {
        "id": "GM1EatzLuTGP"
      }
    },
    {
      "cell_type": "code",
      "source": [
        "sorted_revenue = data.groupby('PRODUCTLINE')['TOTALPRICE'].sum().sort_values(ascending=False)\n",
        "print(\"Sorted Revenue:\\n\", sorted_revenue)"
      ],
      "metadata": {
        "colab": {
          "base_uri": "https://localhost:8080/"
        },
        "id": "WuIBLE-ztoMW",
        "outputId": "f2f5274e-fed0-4f79-90f8-026a9e5c0b0a"
      },
      "execution_count": null,
      "outputs": [
        {
          "output_type": "stream",
          "name": "stdout",
          "text": [
            "Sorted Revenue:\n",
            " PRODUCTLINE\n",
            "classic cars        2828586.61\n",
            "vintage cars        1579220.23\n",
            "motorcycles          921021.54\n",
            "trucks and buses     907019.65\n",
            "planes               846639.98\n",
            "ships                638964.54\n",
            "unknown              415797.20\n",
            "trains               201346.17\n",
            "Name: TOTALPRICE, dtype: float64\n"
          ]
        }
      ]
    },
    {
      "cell_type": "code",
      "source": [
        "sorted_data = data.sort_values(by='TOTALPRICE', ascending=False)\n",
        "print(\"Sorted Data:\\n\", sorted_data.head())"
      ],
      "metadata": {
        "colab": {
          "base_uri": "https://localhost:8080/"
        },
        "id": "jmQFEUx5upEQ",
        "outputId": "0cd3dded-a582-44be-b76e-24e06b91a952"
      },
      "execution_count": null,
      "outputs": [
        {
          "output_type": "stream",
          "name": "stdout",
          "text": [
            "Sorted Data:\n",
            "       ORDERNUMBER  QUANTITYORDERED  PRICEEACH  ORDERLINENUMBER    SALES  \\\n",
            "418       10405.0             97.0      93.28              5.0  9048.16   \n",
            "2586      10401.0             85.0      88.75             10.0  7543.75   \n",
            "1995      10405.0             76.0      95.80              3.0  7280.80   \n",
            "1714      10407.0             76.0      94.50              6.0  7182.00   \n",
            "1996      10419.0             70.0     100.00              8.0  7000.00   \n",
            "\n",
            "      ORDERDATE   STATUS  QTR_ID  MONTH_ID  YEAR_ID  ...      ADDRESSLINE1  \\\n",
            "418  2005-04-14  Shipped       2         4     2005  ...  24, place Kluber   \n",
            "2586 2005-03-30  On Hold       1         3     2005  ...     7476 Moss Rd.   \n",
            "1995 2005-04-14  Shipped       2         4     2005  ...  24, place Kluber   \n",
            "1714 2005-04-22  On Hold       2         4     2005  ...    3086 Ingle Ln.   \n",
            "1996 2005-05-17  Shipped       2         5     2005  ...       Geislweg 14   \n",
            "\n",
            "            CITY  COUNTRY CONTACTLASTNAME CONTACTFIRSTNAME DEALSIZE  \\\n",
            "418   Strasbourg   France         Citeaux       Frederique    Large   \n",
            "2586      Newark  Unknown           Brown          William    Large   \n",
            "1995  Strasbourg   France         Citeaux       Frederique    Large   \n",
            "1714    San Jose      USA           Frick              Sue    Large   \n",
            "1996    Salzburg  Austria           Pipps            Georg    Large   \n",
            "\n",
            "     TOTALPRICE MONTH DAY HOUR  \n",
            "418     9048.16     4  14    0  \n",
            "2586    7543.75     3  30    0  \n",
            "1995    7280.80     4  14    0  \n",
            "1714    7182.00     4  22    0  \n",
            "1996    7000.00     5  17    0  \n",
            "\n",
            "[5 rows x 24 columns]\n"
          ]
        }
      ]
    },
    {
      "cell_type": "markdown",
      "source": [
        "##Visualizations\n",
        "####i.Monthly sales trend\n",
        "####ii.Top 5 cities by sales\n",
        "####iii.Revenue by product line"
      ],
      "metadata": {
        "id": "HUG-dkxPAGD_"
      }
    },
    {
      "cell_type": "code",
      "source": [
        "import matplotlib.pyplot as plt\n",
        "import seaborn as sns\n",
        "\n",
        "# Monthly sales trend\n",
        "monthly_sales = data.groupby('MONTH')['TOTALPRICE'].sum()\n",
        "\n",
        "plt.figure(figsize=(10, 5))\n",
        "sns.lineplot(x=monthly_sales.index, y=monthly_sales.values, marker='o', color='teal')\n",
        "plt.title(' Monthly Sales Trend', fontsize=14)\n",
        "plt.xlabel('Month')\n",
        "plt.ylabel('Total Sales ($)')\n",
        "plt.xticks(range(1, 13))\n",
        "plt.grid(True)\n",
        "plt.show()\n"
      ],
      "metadata": {
        "id": "U1kJJ9D3vxF-",
        "colab": {
          "base_uri": "https://localhost:8080/",
          "height": 545
        },
        "outputId": "4ea1f62d-f51f-4a7d-d3c8-f459c092fa68"
      },
      "execution_count": null,
      "outputs": [
        {
          "output_type": "stream",
          "name": "stderr",
          "text": [
            "/usr/local/lib/python3.11/dist-packages/IPython/core/pylabtools.py:151: UserWarning: Glyph 128200 (\\N{CHART WITH UPWARDS TREND}) missing from font(s) DejaVu Sans.\n",
            "  fig.canvas.print_figure(bytes_io, **kw)\n"
          ]
        },
        {
          "output_type": "display_data",
          "data": {
            "text/plain": [
              "<Figure size 1000x500 with 1 Axes>"
            ],
            "image/png": "[encoded data removed]"
          },
          "metadata": {}
        }
      ]
    },
    {
      "cell_type": "code",
      "source": [
        "# Top cities by sale\n",
        "top_cities = data.groupby('CITY')['TOTALPRICE'].sum().sort_values(ascending=False).head(5)\n",
        "\n",
        "plt.figure(figsize=(8, 5))\n",
        "sns.barplot(x=top_cities.values, y=top_cities.index, palette='magma')\n",
        "plt.title(' Top 5 Cities by Sales', fontsize=14)\n",
        "plt.xlabel('Total Sales ($)')\n",
        "plt.ylabel('City')\n",
        "plt.show()\n"
      ],
      "metadata": {
        "colab": {
          "base_uri": "https://localhost:8080/",
          "height": 637
        },
        "id": "HAl3Bqgs7MMy",
        "outputId": "a2cc662f-433d-40a8-b45e-e98a462207b5"
      },
      "execution_count": null,
      "outputs": [
        {
          "output_type": "stream",
          "name": "stderr",
          "text": [
            "/tmp/ipython-input-40-2294065953.py:4: FutureWarning: \n",
            "\n",
            "Passing `palette` without assigning `hue` is deprecated and will be removed in v0.14.0. Assign the `y` variable to `hue` and set `legend=False` for the same effect.\n",
            "\n",
            "  sns.barplot(x=top_cities.values, y=top_cities.index, palette='magma')\n",
            "/usr/local/lib/python3.11/dist-packages/IPython/core/pylabtools.py:151: UserWarning: Glyph 127961 (\\N{CITYSCAPE}) missing from font(s) DejaVu Sans.\n",
            "  fig.canvas.print_figure(bytes_io, **kw)\n"
          ]
        },
        {
          "output_type": "display_data",
          "data": {
            "text/plain": [
              "<Figure size 800x500 with 1 Axes>"
            ],
            "image/png": "[encoded data removed]"
          },
          "metadata": {}
        }
      ]
    },
    {
      "cell_type": "code",
      "source": [
        "# Revenue by product line\n",
        "product_revenue = data.groupby('PRODUCTLINE')['TOTALPRICE'].sum().sort_values(ascending=False)\n",
        "\n",
        "plt.figure(figsize=(10, 6))\n",
        "sns.barplot(x=product_revenue.values, y=product_revenue.index, palette='viridis')\n",
        "plt.title('📊 Revenue by Product Line', fontsize=14)\n",
        "plt.xlabel('Total Revenue ($)')\n",
        "plt.ylabel('Product Line')\n",
        "plt.show()\n"
      ],
      "metadata": {
        "colab": {
          "base_uri": "https://localhost:8080/",
          "height": 714
        },
        "id": "4eCSurXD7OqK",
        "outputId": "0c6d4689-39b4-4d5e-de5b-4b8b9c63aef8"
      },
      "execution_count": null,
      "outputs": [
        {
          "output_type": "stream",
          "name": "stderr",
          "text": [
            "/tmp/ipython-input-41-1890556261.py:4: FutureWarning: \n",
            "\n",
            "Passing `palette` without assigning `hue` is deprecated and will be removed in v0.14.0. Assign the `y` variable to `hue` and set `legend=False` for the same effect.\n",
            "\n",
            "  sns.barplot(x=product_revenue.values, y=product_revenue.index, palette='viridis')\n",
            "/usr/local/lib/python3.11/dist-packages/IPython/core/pylabtools.py:151: UserWarning: Glyph 128202 (\\N{BAR CHART}) missing from font(s) DejaVu Sans.\n",
            "  fig.canvas.print_figure(bytes_io, **kw)\n"
          ]
        },
        {
          "output_type": "display_data",
          "data": {
            "text/plain": [
              "<Figure size 1000x600 with 1 Axes>"
            ],
            "image/png": "[encoded data removed]"
          },
          "metadata": {}
        }
      ]
    },
    {
      "cell_type": "code",
      "source": [
        "data.to_csv('25-0020-I.csv', index=False)"
      ],
      "metadata": {
        "id": "4dPSKTrX7gw-"
      },
      "execution_count": null,
      "outputs": []
    },
    {
      "cell_type": "code",
      "source": [],
      "metadata": {
        "id": "915jS3GR_5_p"
      },
      "execution_count": null,
      "outputs": []
    }
  ]
}